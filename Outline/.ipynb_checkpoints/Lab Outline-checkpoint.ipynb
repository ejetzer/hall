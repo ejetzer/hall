{
 "cells": [
  {
   "cell_type": "markdown",
   "metadata": {},
   "source": [
    "# Lab Outline\n",
    "\n",
    "Tasks and things to do, to write, etc.\n",
    "\n",
    "## Goals\n",
    "\n",
    "From the manual:\n",
    "> - Measure the resistivity of germanium as a function of temperature and deduce conclusions regarding the conduction mechanism;\n",
    "> - Measure the dependence of the Hall voltage across the sample on temperature;\n",
    "> - Measure the magneto-resistance of the sample as a function of the magnetic field intensity;\n",
    "> - **(optional)** Be creative! You may for instance study the dependence of the magneto-resistance effect on the orientation of the sample, study the heating rate of the sample, or do whatever else that may come to mind.\n",
    "\n",
    "I propose that the optional part be spent on measuring the heating rate of the sample, as it brings together the temperature and magnetism aspect of the experiment. Still two weeks to think about, though. No worries."
   ]
  },
  {
   "cell_type": "markdown",
   "metadata": {},
   "source": [
    "## Theory behind the Hall effect\n",
    "\n",
    "- See `References` for a nice [Youtube tutorial](https://www.facebook.com/l.php?u=https%3A%2F%2Fwww.youtube.com%2Fwatch%3Fv%3DfZoFnKo-bwk&h=8AQGIPO_0) (thanks Nico!)\n",
    "\n",
    "### What we should get\n",
    "\n",
    "- **All** of the equations we will use later in the lab, numbered\n",
    "- Clear diagrams of the physics"
   ]
  },
  {
   "cell_type": "markdown",
   "metadata": {},
   "source": [
    "### Equations from the manual\n",
    "\n",
    "Each item in the list is for what I think should be one block for an equation in the final report. If it makes it.\n",
    "\n",
    "<small>(To remove things, use double tildes like so: ~~removed~~. To add them, just append them in the place where they'd be most useful.)</small>\n",
    "\n",
    "1. $ R = \\frac{\\rho L}{S} $ where $R$ is the *electrical resistance* for a material of length *L*, cross sectional area *S* and *resistivity* $\\rho$. $\\rho$ is dependant on temperature for a given material.\n",
    "2. $\\rho = \\sigma^{-1}$ and $\\vec{J}=\\sigma\\vec{E}$, where $\\sigma$ is the conductivity, $\\vec{J}$ is the vectorial current density and $\\vec{E}$ is the electric field. For electrons (negative charge carriers) we have $\\vec{J}=e^-n\\vec{v}$ where $\\vec{v}$ is the mean velocity of electrons and $n$ their density in the material.\n",
    "3. "
   ]
  },
  {
   "cell_type": "markdown",
   "metadata": {},
   "source": [
    "## Apparatus\n",
    "\n",
    "### What we should get\n",
    "\n",
    "- A list and description of the equipment\n",
    "- A schematic of the experimental setup **Émile**\n",
    "- A diagram of how the information is processed (not just *computer*) **Émile**\n",
    "- Precisions on which steps are delicate for specific things"
   ]
  },
  {
   "cell_type": "markdown",
   "metadata": {},
   "source": [
    "### Constant Current Power Supply\n",
    "\n",
    "### Variable DC Power Supply\n",
    "\n",
    "### Thermocouple System (with cold-junction compensator)\n",
    "\n",
    "### Magnet\n",
    "\n",
    "### Magnetic Field Measurements with the Hall probe\n",
    "\n",
    "### Keithley Digital Voltmeter"
   ]
  },
  {
   "cell_type": "markdown",
   "metadata": {},
   "source": [
    "### Software\n",
    "\n",
    "See Appendix C from the manual, and the page on [Hall programs](http://www.ugrad.physics.mcgill.ca/wiki/index.php/Software:Hall_Effect) on the wiki. There's also `Manual/hall-effect-guide.pdf` by Mark that explains a lot about the software.\n",
    "\n",
    "#### `hall` program for data acquisition\n",
    "\n",
    "#### `hall_process` program for preparing data for plotting\n",
    "\n",
    "#### Data manipulation programs\n",
    "\n",
    "- `hall_add`\n",
    "- `hall_subtract`\n",
    "- `hall_product`\n",
    "- `hall_quotient`\n",
    "\n",
    "#### Analysis software that we use\n",
    "\n",
    "These should all be in the `Programs/` folder of the Git repository. We'll use `spinmob` as the main module for the analysis."
   ]
  },
  {
   "cell_type": "markdown",
   "metadata": {},
   "source": [
    "### Block diagram for the magnets and stuff\n",
    "\n",
    "See Fig. 3 from the manual. I'll reproduce it in OmniGraffle or with LaTeX, and include the electronics.\n",
    "\n",
    "I'll also produce a software diagram, so that we can easily show how we did the analysis. This can only be done at the end, though.\n",
    "\n",
    "We'll also need a diagram like Fig. 4 from the manual for the sample holder."
   ]
  },
  {
   "cell_type": "markdown",
   "metadata": {},
   "source": [
    "### Delicate steps and things\n",
    "\n",
    "- Do *not* exceed a *sample* temperature of $383\\,\\mathrm{K}$ (110°C)\n",
    "- Be careful with the sample when it is very cold or close to $383\\,\\mathrm{K}$\n",
    "- The sample and its wiring are *very* fragile\n",
    "- Turn off the power sources when we leave, unless we're takign data\n",
    "- Make sure cooling water is running when using the magnet\n",
    "- Make sure the cold-junction compensator is switched **on** when used and **off** when unused"
   ]
  },
  {
   "cell_type": "markdown",
   "metadata": {},
   "source": [
    "## Measurement of the sample's relevant dimensions\n",
    "\n",
    "### What we should get\n",
    "\n",
    "- A table of the sample dimensions\n",
    "- Labels of the dimensions on the diagram of the sample holder\n",
    "\n",
    "### Actual measurement\n",
    "\n",
    "Apparently, we will **not** be measuring the sample ourselves, instead using pictures taken by Dominic or Mark. The sample is too fragile to be manipulated by our impure hands ;P We also **don't** need the dimensions for most of the experiment. To paraphrase Dominic: the dimensions of the sample are only useful to get the resistivity, carrier density or charge. We rarely need those, so whenever we can, we should use the **resistance** instead of the resistivity, to reduce our uncertainties in the other sections of the experiment. I'll check, but this may mean that we can **completely scrap this part of the experiment**."
   ]
  },
  {
   "cell_type": "markdown",
   "metadata": {},
   "source": [
    "## ~~Resistivity~~ _Resistance_ as a function of temperature\n",
    "\n",
    "### What we should get out\n",
    "\n",
    "- A graph\n",
    "- A fit, with uncertainties and chi-square"
   ]
  },
  {
   "cell_type": "markdown",
   "metadata": {},
   "source": [
    "## Hall coefficient as a function of temperature\n",
    "\n",
    "### What we should get out\n",
    "\n",
    "- A graph\n",
    "- A fit, with uncertainties and chi-square"
   ]
  },
  {
   "cell_type": "markdown",
   "metadata": {},
   "source": [
    "## Magneto-resistance against magnetic field intensity\n",
    "\n",
    "### What we should get out\n",
    "\n",
    "- A graph\n",
    "- A fit with uncertainties and chi-square"
   ]
  },
  {
   "cell_type": "code",
   "execution_count": null,
   "metadata": {
    "collapsed": true
   },
   "outputs": [],
   "source": []
  }
 ],
 "metadata": {
  "kernelspec": {
   "display_name": "Python 2",
   "language": "python",
   "name": "python2"
  },
  "language_info": {
   "codemirror_mode": {
    "name": "ipython",
    "version": 2
   },
   "file_extension": ".py",
   "mimetype": "text/x-python",
   "name": "python",
   "nbconvert_exporter": "python",
   "pygments_lexer": "ipython2",
   "version": "2.7.10"
  }
 },
 "nbformat": 4,
 "nbformat_minor": 0
}
