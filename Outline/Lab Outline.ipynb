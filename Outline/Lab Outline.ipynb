{
 "cells": [
  {
   "cell_type": "code",
   "execution_count": 1,
   "metadata": {
    "collapsed": true
   },
   "outputs": [],
   "source": [
    "import spinmob, glob\n",
    "import matplotlib.pylab as plt"
   ]
  },
  {
   "cell_type": "markdown",
   "metadata": {},
   "source": [
    "# Lab Outline\n",
    "\n",
    "Tasks and things to do, to write, etc.\n",
    "\n",
    "To add to it, use [Markdown](http://www.facebook.com/l.php?u=http%3A%2F%2Fmarkdowntutorial.com%2F&h=8AQGIPO_0). To write down equations, use dollar signs, and $\\LaTeX$ syntax. You can use Python in code blocks.\n",
    "\n",
    "## Goals\n",
    "\n",
    "From the manual:\n",
    "> - Measure the resistivity of germanium as a function of temperature and deduce conclusions regarding the conduction mechanism;\n",
    "> - Measure the dependence of the Hall voltage across the sample on temperature;\n",
    "> - Measure the magneto-resistance of the sample as a function of the magnetic field intensity;\n",
    "> - **(optional)** Be creative! You may for instance study the dependence of the magneto-resistance effect on the orientation of the sample, study the heating rate of the sample, or do whatever else that may come to mind.\n",
    "\n",
    "I propose that the optional part be spent on measuring the heating rate of the sample, as it brings together the temperature and magnetism aspect of the experiment. Still two weeks to think about, though. No worries."
   ]
  },
  {
   "cell_type": "markdown",
   "metadata": {},
   "source": [
    "## Theory behind the Hall effect (by Tuesday November 10, in the morning)\n",
    "\n",
    "- See `References` for a nice [Youtube tutorial](https://www.facebook.com/l.php?u=https%3A%2F%2Fwww.youtube.com%2Fwatch%3Fv%3DfZoFnKo-bwk&h=8AQGIPO_0) (thanks Nico!)\n",
    "\n",
    "I suggest that **Nico** does this since he's already gone through a review of the theory like a pro.\n",
    "\n",
    "### What we should get\n",
    "\n",
    "- **All** of the equations we will use later in the lab, numbered\n",
    "- Clear diagrams of the physics"
   ]
  },
  {
   "cell_type": "markdown",
   "metadata": {},
   "source": [
    "### Equations from the manual\n",
    "\n",
    "Each item in the list is for what I think should be one block for an equation in the final report. If it makes it.\n",
    "\n",
    "<small>(To remove things, use double tildes like so: ~~removed~~. To add them, just append them in the place where they'd be most useful.)</small>\n",
    "\n",
    "1. $ R = \\frac{\\rho L}{S} $ where $R$ is the *electrical resistance* for a material of length *L*, cross sectional area *S* and *resistivity* $\\rho$. $\\rho$ is dependant on temperature for a given material.\n",
    "2. $\\rho = \\sigma^{-1}$ and $\\vec{J}=\\sigma\\vec{E}$, where $\\sigma$ is the conductivity, $\\vec{J}$ is the vectorial current density and $\\vec{E}$ is the electric field. For electrons (negative charge carriers) we have $\\vec{J}=e^-n\\vec{v}$ where $\\vec{v}$ is the mean velocity of electrons and $n$ their density in the material.\n",
    "3. $\\rho(T) = a\\cdot T^b$ and $R = \\frac{\\rho L}{S}$. Because we always use the same sample, $L/S$ is constant. Hence $$ R = a'\\cdot T^b,\\; a'=\\frac{aL}{S}.$$ We don't need to measure the resistivity, and we can have a **way** smaller uncertainty! (repeated later, in the section on resistance against temperature)"
   ]
  },
  {
   "cell_type": "markdown",
   "metadata": {},
   "source": [
    "## Apparatus (by Tuesday November 10, in the morning)\n",
    "\n",
    "### What we should get\n",
    "\n",
    "- A list and description of the equipment **David?**\n",
    "- A schematic of the experimental setup **Émile**\n",
    "- A diagram of how the information is processed (not just *computer*) **Émile**\n",
    "- Precisions on which steps are delicate for specific things **Émile**"
   ]
  },
  {
   "cell_type": "markdown",
   "metadata": {},
   "source": [
    "### Constant Current Power Supply\n",
    "\n",
    "* Labeled *Current source* on the diagram\n",
    "* Needs to be on when we take the measurements\n",
    "* Both red LEDs should be on. If the top one blinks, it means we have a faulty conection at the back\n",
    "* It provides the current that flows through the germanium sample. It should be set to 1mA.\n",
    "* The `OUTPUT` switch should be set to `NORM`**???**\n",
    "\n",
    "### Variable DC Power Supply\n",
    "\n",
    "* Provides power to the heater\n",
    "* Should be used to bring the sample from around $290\\mathrm{K}$ to $400\\mathrm{K}$\n",
    "* Make sure it is off when we leave\n",
    "* The heater heats up the copper casing of the sample. For the sample to be at the same temperature, we need to heat everything slowly. So set the heater to between $5\\mathrm{V}$ and $10\\mathrm{V}$.\n",
    "\n",
    "### Thermocouple System (with cold-junction compensator)\n",
    "\n",
    "* Measures the temperature of the copper casing of the sample. Used as a proxy for the sample temperature.\n",
    "* The cold-junction compensator is battery powered; make sure it is on when taking measurements.\n",
    "\n",
    "### Magnet\n",
    "\n",
    "### Magnetic Field Measurements with the Hall probe\n",
    "\n",
    "### Keithley Digital Multimeter\n",
    "\n",
    "* Takes in all the data\n",
    "* Has multiple channels\n",
    "* To see a specific channel manually, we can stop the `hall` program, and press the `LOCAL` and then the `SCANNER` button, before pressing the channel number you need."
   ]
  },
  {
   "cell_type": "markdown",
   "metadata": {},
   "source": [
    "### Software\n",
    "\n",
    "See Appendix C from the manual, and the page on [Hall programs](http://www.ugrad.physics.mcgill.ca/wiki/index.php/Software:Hall_Effect) on the wiki. There's also `Manual/hall-effect-guide.pdf` by Mark that explains a lot about the software.\n",
    "\n",
    "#### `hall` program for data acquisition\n",
    "\n",
    "`hall` produces nine columns of data. The first 7 columns are the data from the different probes on the sample (diagram to come). The eightth column is the thermocouple voltage, and the last column is a time stamp. Using this data, we can get the potential differences between any two of the probes, as a function of time, or temperature, and get the temperature as a function of time.\n",
    "\n",
    "#### `hall_process` program for preparing data for plotting\n",
    "\n",
    "`hall_process` takes the data in the files produced by `hall`, and splits it into more manageable files. It's syntax is as follows:\n",
    "\n",
    "    $ hall_process [-b bin width] input_file\n",
    "\n",
    "`bin width` is the temperature range we want to use for each bin. The default is $1\\mathrm{K}$. `input_file` is the file `hall_process` reads from. The program outputs 8 files, numbered 1 through 8, according to the voltage column they contain. They have four columns. The first one is the center of the temperature bin, the second is the average potential for the probe within the bin temperatures, the third is the statistical uncertainty from the averaging, and the fourth column is the number of measurements taken into account.\n",
    "\n",
    "**Jack's advice**: Don't use that statistical uncertainty. Find your own. *What we can do*: take a series of measurements at room temperature to figure out the uncertainty on temperature/voltage. Then reduce the bin size to the precision of the temperature measurements ($1\\mathrm{K}$), to have bins of a for single temperature measurements. Do our uncertainty analysis on that.\n",
    "\n",
    "#### Data manipulation programs\n",
    "\n",
    "- `hall_add`\n",
    "- `hall_subtract`\n",
    "- `hall_product`\n",
    "- `hall_quotient`\n",
    "\n",
    "#### Analysis software that we use\n",
    "\n",
    "These should all be in the `Programs/` folder of the Git repository. We'll use `spinmob` as the main module for the analysis. `gnuplot` will also be used to produce plots right on the lab computer, since it doesn't have `matplotlib` installed."
   ]
  },
  {
   "cell_type": "markdown",
   "metadata": {},
   "source": [
    "### Block diagram for the magnets and stuff\n",
    "\n",
    "See Fig. 3 from the manual. I'll reproduce it in OmniGraffle or with $\\LaTeX$, and include the electronics.\n",
    "\n",
    "I'll also produce a software diagram, so that we can easily show how we did the analysis. This can only be done at the end, though.\n",
    "\n",
    "We'll also need a diagram like Fig. 4 from the manual for the sample holder."
   ]
  },
  {
   "cell_type": "markdown",
   "metadata": {},
   "source": [
    "![Block diagram](../Graphs/Apparatus.png)\n",
    "\n",
    "![Sample holder](../Graphs/Sample.png)"
   ]
  },
  {
   "cell_type": "markdown",
   "metadata": {},
   "source": [
    "### Delicate steps and things\n",
    "\n",
    "- Do *not* exceed a *sample* temperature of $383\\,\\mathrm{K}$ (110°C)\n",
    "- Be careful with the sample when it is very cold or close to $383\\,\\mathrm{K}$\n",
    "- The sample and its wiring are *very* fragile\n",
    "- Turn off the power sources when we leave, unless we're takign data\n",
    "- Make sure cooling water is running when using the magnet\n",
    "- Make sure the cold-junction compensator is switched **on** when used and **off** when unused"
   ]
  },
  {
   "cell_type": "markdown",
   "metadata": {},
   "source": [
    "## ~~Measurement of the sample's relevant dimensions (by the end of Tuesday November 9's lab session)~~\n",
    "\n",
    "### ~~What we should get~~\n",
    "\n",
    "- A table of the sample dimensions\n",
    "- Labels of the dimensions on the diagram of the sample holder\n",
    "\n",
    "### ~~Actual measurement~~\n",
    "\n",
    "Apparently, we will **not** be measuring the sample ourselves, instead using pictures taken by Dominic or Mark. The sample is too fragile to be manipulated by our impure hands ;P We also **don't** need the dimensions for most of the experiment. To paraphrase Dominic: the dimensions of the sample are only useful to get the resistivity, carrier density or charge. We rarely need those, so whenever we can, we should use the **resistance** instead of the resistivity, to reduce our uncertainties in the other sections of the experiment. I'll check, but this may mean that we can **completely scrap this part of the experiment**."
   ]
  },
  {
   "cell_type": "markdown",
   "metadata": {},
   "source": [
    "## ~~Resistivity~~ _Resistance_ as a function of temperature (start on Tuesday November 9)\n",
    "\n",
    "### Methods\n",
    "\n",
    "Turn on the current source, thermocouple, and multimeter. Cool down the sample with liquid nitrogen until the temperature stabilizes, around $140\\mathrm{K}$. Make sure the nitrogen can evaporate from the thermos, otherwise the sample won't warm back up to room temperature in any reasonable time. You can do this by taking a paper towel to brush off the ice forming around the thermos. Use `hall` to check on the temperature. Once the temperature is stable, restart `hall` to get a data file with only the data we need. When the temperature reaches $250\\mathrm{K}$, turn on the heater with a low potential to help bring the sample up to $400\\mathrm{K}$. Raise the heater voltage if the temperature stabilizes again. Be careful to not let the sample heat up over $400\\mathrm{K}$, because the soldered connections could melt. Turn off the current source, thermocouple, multimeter and heater.\n",
    "\n",
    "### What we should get out\n",
    "\n",
    "- A graph\n",
    "- A fit, with uncertainties and chi-square \n",
    "\n",
    "### Not having to use the resistivity\n",
    "\n",
    "From the manual: $\\rho(T) = a\\cdot T^b$ and $R = \\frac{\\rho L}{S}$. Because we always use the same sample, $L/S$ is constant. Hence $$ R = a'\\cdot T^b,\\; a'=\\frac{aL}{S}.$$ We don't need to measure the resistivity, and we can have a **way** smaller uncertainty!\n",
    "\n",
    "### Fitting the data\n",
    "\n",
    "We should get a graph with two distinct parts; a power part, and an exponential part. We'll fit the first part using $R = a'\\cdot T^b$, and verify that $b\\approx3/2$, and the second part using $R=a'\\exp\\frac{b}{T}$ to find the band gap energy $E_g$ with Eq. 6 from the manual, $\\sigma\\propto\\exp\\frac{E_g}{2k_BT}.$ Again, because $\\sigma=1/\\rho$, we can use $R$ as a proxy and reduce our uncertainty since then $R^{-1}\\propto\\sigma$ and this does not influence $E_g$ in the parameters. \n",
    "\n",
    "~~We need to use $V_5$ from the data we take as the voltage drop across the crystal (confirm with Mark).~~ The potential difference across the length of the germanium sample is read both by $V_5$ and $V_6$. Both should give out the *same reading*, or very close to one another **(What if they don't?)**. We can use a single one of them in the analysis, or both and compare the results.\n",
    "\n",
    "$V_5$ and $V_6$ may be different because of the sample lengths, top and bottom.\n",
    "\n",
    "The data is in `Data/Resistance vs temperature`, and info on it is in `Data/Resistance vs temperature/Readme.md`.\n",
    "\n",
    "**Discovered here**: running the current source in `REVRS` doesn't change the gaps between $V_5$ and $V_6$, but changes the sign. To correct for this in this first data set, we'll just have to invert the signs of all the potentials. In future data collection, we'll have the `OUTPUT` of the current source set to `NORM`."
   ]
  },
  {
   "cell_type": "code",
   "execution_count": 2,
   "metadata": {
    "collapsed": true
   },
   "outputs": [],
   "source": [
    "def fit_exp(Rs, Ts, Terr=None):\n",
    "    'Fit an exponential function to the data'\n",
    "    model, ps = 'a * exp(b * x)', 'a,b'\n",
    "    # Make intelligent guesses for the parameters\n",
    "    a, b = 1, 1\n",
    "    # Create a spinmob fitter\n",
    "    fitter = spinmob.data.fitter(model, ps)\n",
    "    fitter.set_data(Rs, Ts, Terr)\n",
    "    fitter.set(a=a, b=b) # Set guesses\n",
    "    # Fit.\n",
    "    fitter.fit()\n",
    "    return fitter\n",
    "\n",
    "def fit_power(Rs, Ts, Terr=None):\n",
    "    'Fit a power function to the data'\n",
    "    model, ps = 'a * x**b', 'a,b'\n",
    "    # Make intelligent guesses for the parameters\n",
    "    a, b = 1, 1\n",
    "    # Create a spinmob fitter\n",
    "    fitter = spinmob.data.fitter(model, ps)\n",
    "    fitter.set_data(Rs, Ts, Terr)\n",
    "    fitter.set(a=a, b=b) # Set guesses\n",
    "    # Fit.\n",
    "    fitter.fit()\n",
    "    return fitter\n",
    "\n",
    "def split_data(Rs, Ts, Terr=None, margin=0):\n",
    "    'Figure out where the exponential and power sections of the data are anf apply the fits.'\n",
    "    # Use scipy.optimize to minimize $(chi_1^2+chi_2^2) - 2$ to get the two best fits.\n",
    "    # If that doesn't work, we'll check it by hand, by looking at the graph.\n",
    "    pass"
   ]
  },
  {
   "cell_type": "markdown",
   "metadata": {},
   "source": [
    "## Hall coefficient as a function of temperature (start on Thursday November 11, use for interim report)\n",
    "\n",
    "### What we should get out\n",
    "\n",
    "- A graph\n",
    "- A fit, with uncertainties and chi-square"
   ]
  },
  {
   "cell_type": "markdown",
   "metadata": {},
   "source": [
    "## Interim report (due Tuesday November 19)\n",
    "\n",
    "We need to have:\n",
    "\n",
    "- A function of the resistance against temperature\n",
    "- ~~A function for the Hall coefficient against temperature~~\n",
    "- An explanation of how we managed our uncertainties\n",
    "\n",
    "Ideally, *all* of the interim report can be used for the final report."
   ]
  },
  {
   "cell_type": "markdown",
   "metadata": {},
   "source": [
    "## Magneto-resistance against magnetic field intensity (start Thursday November 21)\n",
    "\n",
    "### What we should get out\n",
    "\n",
    "- A graph\n",
    "- A fit with uncertainties and chi-square"
   ]
  },
  {
   "cell_type": "code",
   "execution_count": null,
   "metadata": {
    "collapsed": true
   },
   "outputs": [],
   "source": []
  }
 ],
 "metadata": {
  "kernelspec": {
   "display_name": "Python 2",
   "language": "python",
   "name": "python2"
  },
  "language_info": {
   "codemirror_mode": {
    "name": "ipython",
    "version": 2
   },
   "file_extension": ".py",
   "mimetype": "text/x-python",
   "name": "python",
   "nbconvert_exporter": "python",
   "pygments_lexer": "ipython2",
   "version": "2.7.10"
  }
 },
 "nbformat": 4,
 "nbformat_minor": 0
}
